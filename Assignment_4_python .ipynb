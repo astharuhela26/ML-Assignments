{
 "cells": [
  {
   "cell_type": "markdown",
   "metadata": {},
   "source": [
    "# Question 1.1"
   ]
  },
  {
   "cell_type": "code",
   "execution_count": 42,
   "metadata": {},
   "outputs": [],
   "source": [
    "class Dim:                 # defining the parent class \n",
    "    def __init__(self, a, b, c):\n",
    "        self.s1=a\n",
    "        self.s2=b\n",
    "        self.s3=c\n",
    "        \n",
    "    def __str__(self):            \n",
    "        return \"The sides are %d , %d and  %d.\" \\\n",
    "                % (self.s1, self.s2, self.s3)\n",
    "    \n",
    "    \n",
    "\n",
    "class Area(Dim):                     # Creating child class to calculate the area  of triangle\n",
    "    def __init__(self, a,b,c):\n",
    "        super(Area,self).__init__(a,b,c)    # super() function to connect child class to the parent class\n",
    "        self.s=(a+b+c)/2\n",
    "        self.A=(self.s*(self.s-a)*(self.s-b)*(self.s-c))**0.5  #Calculating the area of the triangle   \n",
    "\n",
    "     \n",
    "\n",
    "    def __str__(self):\n",
    "        return super(Area, self).__str__() + \"\\nAnd the area is: %f\" % self.A  #redefining the parent __str__() method to return the area\n",
    "        "
   ]
  },
  {
   "cell_type": "code",
   "execution_count": 43,
   "metadata": {},
   "outputs": [],
   "source": [
    "T=Area(15,20,14)"
   ]
  },
  {
   "cell_type": "code",
   "execution_count": 44,
   "metadata": {},
   "outputs": [
    {
     "name": "stdout",
     "output_type": "stream",
     "text": [
      "The sides are 15 , 20 and  14.\n",
      "And the area is: 104.868668\n"
     ]
    }
   ],
   "source": [
    "print(T)"
   ]
  },
  {
   "cell_type": "markdown",
   "metadata": {},
   "source": [
    "# Question 1.2"
   ]
  },
  {
   "cell_type": "code",
   "execution_count": 1,
   "metadata": {},
   "outputs": [],
   "source": [
    "def filter_long_words():                     # Creating a function\n",
    "    x= []                                    # Empty list to store the words \n",
    "    lt=[]                                    # Empty list to store the words that are longer than the minimum lenght \n",
    "    nt=int(input(\"Enter the number of words you want to enter: \"))  #Entering total no of words \n",
    "    num=int(input(\"Enter the min length: \"))                        # Entering the minimum length\n",
    "    \n",
    "    for i in range(0,nt):                   # Iterating to get the words\n",
    "        word=input(\"Enter the words: \")\n",
    "        x.append(word)\n",
    "     \n",
    "    for i in range(0,nt):                  # Iterating to check the condition\n",
    "        if(len(x[i])>num):\n",
    "            lt.append(x[i])\n",
    "    print(\"The words longer than\",num,\" are : \",lt) # Printing the result\n",
    "    "
   ]
  },
  {
   "cell_type": "code",
   "execution_count": 2,
   "metadata": {},
   "outputs": [
    {
     "name": "stdout",
     "output_type": "stream",
     "text": [
      "Enter the number of words you want to enter: 4\n",
      "Enter the min length: 3\n",
      "Enter the words: nick\n",
      "Enter the words: jo\n",
      "Enter the words: shubhu\n",
      "Enter the words: lu\n",
      "The words longer than 3  are :  ['nick', 'shubhu']\n"
     ]
    }
   ],
   "source": [
    "filter_long_words()"
   ]
  },
  {
   "cell_type": "markdown",
   "metadata": {},
   "source": [
    "# Question 2.1"
   ]
  },
  {
   "cell_type": "code",
   "execution_count": 45,
   "metadata": {},
   "outputs": [],
   "source": [
    "def func(words1):                    #Creating a function\n",
    "    lenofwords = []                  # Creating an empty list to hold the data\n",
    "    for i in words1:                 # Iterating \n",
    "        lenofwords.append(len(i))\n",
    "    return lenofwords                # Returning the list of lenght of the entered words"
   ]
  },
  {
   "cell_type": "code",
   "execution_count": 46,
   "metadata": {},
   "outputs": [
    {
     "data": {
      "text/plain": [
       "[9, 4, 4, 7, 7]"
      ]
     },
     "execution_count": 46,
     "metadata": {},
     "output_type": "execute_result"
    }
   ],
   "source": [
    " func([\"deepshika\",\"pihu\", \"john\",\"deepika\",\"shanaya\"])"
   ]
  },
  {
   "cell_type": "markdown",
   "metadata": {},
   "source": [
    "# Question 2.2"
   ]
  },
  {
   "cell_type": "code",
   "execution_count": 47,
   "metadata": {},
   "outputs": [],
   "source": [
    "def isVowel(char):                  # Creating a function \n",
    "    if char in ['a','e','i','o','u','A','E','I','O','U']:     # Checking whether the character is a vowel or not\n",
    "        return True\n",
    "    else:\n",
    "        return False\n",
    "        "
   ]
  },
  {
   "cell_type": "code",
   "execution_count": 48,
   "metadata": {},
   "outputs": [
    {
     "data": {
      "text/plain": [
       "True"
      ]
     },
     "execution_count": 48,
     "metadata": {},
     "output_type": "execute_result"
    }
   ],
   "source": [
    "isVowel('a')"
   ]
  },
  {
   "cell_type": "code",
   "execution_count": 49,
   "metadata": {},
   "outputs": [
    {
     "data": {
      "text/plain": [
       "False"
      ]
     },
     "execution_count": 49,
     "metadata": {},
     "output_type": "execute_result"
    }
   ],
   "source": [
    "isVowel('C')"
   ]
  },
  {
   "cell_type": "code",
   "execution_count": null,
   "metadata": {},
   "outputs": [],
   "source": []
  },
  {
   "cell_type": "code",
   "execution_count": null,
   "metadata": {},
   "outputs": [],
   "source": []
  }
 ],
 "metadata": {
  "kernelspec": {
   "display_name": "Python 3",
   "language": "python",
   "name": "python3"
  },
  "language_info": {
   "codemirror_mode": {
    "name": "ipython",
    "version": 3
   },
   "file_extension": ".py",
   "mimetype": "text/x-python",
   "name": "python",
   "nbconvert_exporter": "python",
   "pygments_lexer": "ipython3",
   "version": "3.7.4"
  }
 },
 "nbformat": 4,
 "nbformat_minor": 2
}
